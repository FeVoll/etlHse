{
 "cells": [
  {
   "cell_type": "markdown",
   "id": "b4e27d6b-e12d-4cd0-9498-27ff68b73e09",
   "metadata": {},
   "source": [
    "Импорт библиотек и подключение к MongoDB"
   ]
  },
  {
   "cell_type": "code",
   "execution_count": 2,
   "id": "d6c070bd-411c-46d3-995f-8fe8ebc38b57",
   "metadata": {},
   "outputs": [
    {
     "name": "stdout",
     "output_type": "stream",
     "text": [
      "Подключение к MongoDB успешно!\n"
     ]
    }
   ],
   "source": [
    "from pymongo import MongoClient\n",
    "import random\n",
    "import datetime\n",
    "import uuid\n",
    "\n",
    "client = MongoClient(\"mongodb://localhost:27017/\")\n",
    "db = client.etl_db\n",
    "collection = db.user_sessions\n",
    "\n",
    "print(\"Подключение к MongoDB успешно!\")"
   ]
  },
  {
   "cell_type": "markdown",
   "id": "9719331b-fae4-444d-aac9-7f6e9c63c621",
   "metadata": {},
   "source": [
    "Функция для генерации одной сессии"
   ]
  },
  {
   "cell_type": "code",
   "execution_count": 3,
   "id": "2f70a678-5c0f-4be4-a98c-c9baa6aa7fdd",
   "metadata": {},
   "outputs": [
    {
     "name": "stdout",
     "output_type": "stream",
     "text": [
      "Пример сгенерированной сессии: {'session_id': '1bbf5fb3-3d0c-4de2-8e21-ee3bad1831de', 'user_id': 617, 'start_time': datetime.datetime(2025, 3, 15, 18, 17, 44, 462379), 'end_time': datetime.datetime(2025, 3, 15, 19, 10, 44, 462379), 'pages_visited': ['/page10', '/page4', '/page8', '/page3'], 'device': 'Mobile', 'actions': ['click', 'type', 'type', 'scroll']}\n"
     ]
    }
   ],
   "source": [
    "def generate_session():\n",
    "    session = {\n",
    "        \"session_id\": str(uuid.uuid4()),\n",
    "        \"user_id\": random.randint(1, 1000),\n",
    "        \"start_time\": datetime.datetime.now() - datetime.timedelta(minutes=random.randint(1, 60)),\n",
    "        \"end_time\": datetime.datetime.now(),\n",
    "        \"pages_visited\": [f\"/page{random.randint(1, 10)}\" for _ in range(random.randint(1, 5))],\n",
    "        \"device\": random.choice([\"Desktop\", \"Mobile\", \"Tablet\"]),\n",
    "        \"actions\": [random.choice([\"click\", \"scroll\", \"type\"]) for _ in range(random.randint(1, 5))]\n",
    "    }\n",
    "    return session\n",
    "\n",
    "example_session = generate_session()\n",
    "print(\"Пример сгенерированной сессии:\", example_session)"
   ]
  },
  {
   "cell_type": "raw",
   "id": "d70c1076-b456-4147-b676-f63e2b049f43",
   "metadata": {},
   "source": [
    "Генерация и вставка данных в MongoDB"
   ]
  },
  {
   "cell_type": "code",
   "execution_count": 4,
   "id": "51ba63fd-9019-458b-8784-dcde4b76e3f1",
   "metadata": {},
   "outputs": [
    {
     "name": "stdout",
     "output_type": "stream",
     "text": [
      "Сгенерировано и вставлено 10 сессий в MongoDB!\n"
     ]
    }
   ],
   "source": [
    "num_sessions = 10\n",
    "\n",
    "sessions = [generate_session() for _ in range(num_sessions)]\n",
    "\n",
    "result = collection.insert_many(sessions)\n",
    "print(f\"Сгенерировано и вставлено {len(result.inserted_ids)} сессий в MongoDB!\")"
   ]
  },
  {
   "cell_type": "raw",
   "id": "15828d0d-278b-46e1-a2b7-b0fc953ba18b",
   "metadata": {},
   "source": [
    "Определение функций генерации дополнительных сущностей"
   ]
  },
  {
   "cell_type": "code",
   "execution_count": 6,
   "id": "b3b41c93-bdba-4955-a2bc-2c264d13765e",
   "metadata": {},
   "outputs": [],
   "source": [
    "def generate_price_history():\n",
    "    product_id = str(uuid.uuid4())\n",
    "    base_price = round(random.uniform(20, 200), 2)\n",
    "    num_changes = random.randint(2, 5)\n",
    "    price_changes = []\n",
    "    current_price = base_price\n",
    "    for i in range(num_changes):\n",
    "        # Небольшое изменение цены (от -5% до +5%)\n",
    "        change_factor = random.uniform(0.95, 1.05)\n",
    "        current_price = round(current_price * change_factor, 2)\n",
    "        change_date = (datetime.datetime.now() - datetime.timedelta(days=(num_changes - i) * 7)).isoformat()\n",
    "        price_changes.append({\"date\": change_date, \"price\": current_price})\n",
    "    currency = random.choice([\"USD\", \"EUR\", \"RUB\"])\n",
    "    return {\n",
    "        \"product_id\": product_id,\n",
    "        \"price_changes\": price_changes,\n",
    "        \"current_price\": current_price,\n",
    "        \"currency\": currency\n",
    "    }\n",
    "\n",
    "def generate_event_log():\n",
    "    event_id = str(uuid.uuid4())\n",
    "    timestamp = datetime.datetime.now().isoformat()\n",
    "    event_type = random.choice([\"login\", \"logout\", \"purchase\", \"error\", \"view_product\"])\n",
    "    if event_type == \"login\":\n",
    "        ip_address = \".\".join(str(random.randint(0, 255)) for _ in range(4))\n",
    "        details = f\"User logged in from IP {ip_address}.\"\n",
    "    elif event_type == \"logout\":\n",
    "        details = \"User logged out successfully.\"\n",
    "    elif event_type == \"purchase\":\n",
    "        order_id = str(uuid.uuid4())[:8]\n",
    "        details = f\"Purchase completed. Order ID: {order_id}.\"\n",
    "    elif event_type == \"error\":\n",
    "        details = \"An error occurred while processing the request.\"\n",
    "    elif event_type == \"view_product\":\n",
    "        details = \"User viewed product details.\"\n",
    "    return {\n",
    "        \"event_id\": event_id,\n",
    "        \"timestamp\": timestamp,\n",
    "        \"event_type\": event_type,\n",
    "        \"details\": details\n",
    "    }\n",
    "\n",
    "def generate_support_ticket():\n",
    "    ticket_id = str(uuid.uuid4())\n",
    "    user_id = random.randint(1, 1000)\n",
    "    status = random.choice([\"open\", \"closed\", \"pending\"])\n",
    "    issue_type = random.choice([\"technical\", \"billing\", \"account\", \"delivery\"])\n",
    "    messages_pool = {\n",
    "        \"technical\": [\n",
    "            \"I can't connect to the internet.\",\n",
    "            \"The app crashes on startup.\",\n",
    "            \"I'm experiencing frequent disconnections.\"\n",
    "        ],\n",
    "        \"billing\": [\n",
    "            \"My bill seems incorrect.\",\n",
    "            \"I was charged twice for my order.\",\n",
    "            \"There is a discrepancy in my invoice.\"\n",
    "        ],\n",
    "        \"account\": [\n",
    "            \"I cannot access my account.\",\n",
    "            \"I forgot my password and can't reset it.\",\n",
    "            \"I need assistance updating my account details.\"\n",
    "        ],\n",
    "        \"delivery\": [\n",
    "            \"My order hasn't arrived yet.\",\n",
    "            \"The delivery is delayed without any updates.\",\n",
    "            \"I received a damaged product.\"\n",
    "        ]\n",
    "    }\n",
    "    messages = random.sample(messages_pool[issue_type], k=random.randint(1, len(messages_pool[issue_type])))\n",
    "    created_at = (datetime.datetime.now() - datetime.timedelta(days=random.randint(1, 7))).isoformat()\n",
    "    updated_at = datetime.datetime.now().isoformat()\n",
    "    return {\n",
    "        \"ticket_id\": ticket_id,\n",
    "        \"user_id\": user_id,\n",
    "        \"status\": status,\n",
    "        \"issue_type\": issue_type,\n",
    "        \"messages\": messages,\n",
    "        \"created_at\": created_at,\n",
    "        \"updated_at\": updated_at\n",
    "    }\n",
    "\n",
    "def generate_user_recommendations():\n",
    "    user_id = random.randint(1, 1000)\n",
    "    recommended_products = [str(uuid.uuid4()) for _ in range(random.randint(2, 5))]\n",
    "    last_updated = datetime.datetime.now().isoformat()\n",
    "    return {\n",
    "        \"user_id\": user_id,\n",
    "        \"recommended_products\": recommended_products,\n",
    "        \"last_updated\": last_updated\n",
    "    }\n",
    "\n",
    "def generate_moderation_queue():\n",
    "    review_id = str(uuid.uuid4())\n",
    "    user_id = random.randint(1, 1000)\n",
    "    product_id = str(uuid.uuid4())\n",
    "    review_text = random.choice([\n",
    "        \"Great product, exceeded my expectations.\",\n",
    "        \"The quality is poor, very disappointed.\",\n",
    "        \"Average experience, nothing exceptional.\",\n",
    "        \"Excellent value for money, highly recommend!\",\n",
    "        \"Not as described, had issues with the performance.\"\n",
    "    ])\n",
    "    rating = random.randint(1, 5)\n",
    "    moderation_status = random.choice([\"approved\", \"rejected\", \"pending\"])\n",
    "    flags = random.sample([\"spam\", \"offensive\", \"duplicate\"], k=random.randint(0, 2))\n",
    "    submitted_at = datetime.datetime.now().isoformat()\n",
    "    return {\n",
    "        \"review_id\": review_id,\n",
    "        \"user_id\": user_id,\n",
    "        \"product_id\": product_id,\n",
    "        \"review_text\": review_text,\n",
    "        \"rating\": rating,\n",
    "        \"moderation_status\": moderation_status,\n",
    "        \"flags\": flags,\n",
    "        \"submitted_at\": submitted_at\n",
    "    }\n",
    "\n",
    "def generate_search_query():\n",
    "    query_id = str(uuid.uuid4())\n",
    "    user_id = random.randint(1, 1000)\n",
    "    query_text = random.choice([\n",
    "        \"best smartphones 2025\",\n",
    "        \"affordable laptops\",\n",
    "        \"customer reviews for product X\",\n",
    "        \"latest tech trends\",\n",
    "        \"how to fix connection issues\"\n",
    "    ])\n",
    "    timestamp = datetime.datetime.now().isoformat()\n",
    "    filters = {\"category\": random.choice([\"electronics\", \"books\", \"fashion\", \"home\"])}\n",
    "    results_count = random.randint(0, 100)\n",
    "    return {\n",
    "        \"query_id\": query_id,\n",
    "        \"user_id\": user_id,\n",
    "        \"query_text\": query_text,\n",
    "        \"timestamp\": timestamp,\n",
    "        \"filters\": filters,\n",
    "        \"results_count\": results_count\n",
    "    }"
   ]
  },
  {
   "cell_type": "raw",
   "id": "78d772ca-220c-4aa7-ac81-029d524a989e",
   "metadata": {},
   "source": [
    "Генерация и вставка данных для всех сущностей"
   ]
  },
  {
   "cell_type": "code",
   "execution_count": 7,
   "id": "c08d4c95-b6ed-4f80-88ab-811e9db0d288",
   "metadata": {},
   "outputs": [
    {
     "name": "stdout",
     "output_type": "stream",
     "text": [
      "Данные для дополнительных сущностей успешно добавлены в MongoDB!\n"
     ]
    }
   ],
   "source": [
    "num_documents = 5\n",
    "\n",
    "price_histories = [generate_price_history() for _ in range(num_documents)]\n",
    "event_logs = [generate_event_log() for _ in range(num_documents)]\n",
    "support_tickets = [generate_support_ticket() for _ in range(num_documents)]\n",
    "user_recommendations = [generate_user_recommendations() for _ in range(num_documents)]\n",
    "moderation_queues = [generate_moderation_queue() for _ in range(num_documents)]\n",
    "search_queries = [generate_search_query() for _ in range(num_documents)]\n",
    "\n",
    "db.product_price_history.insert_many(price_histories)\n",
    "db.event_logs.insert_many(event_logs)\n",
    "db.support_tickets.insert_many(support_tickets)\n",
    "db.user_recommendations.insert_many(user_recommendations)\n",
    "db.moderation_queue.insert_many(moderation_queues)\n",
    "db.search_queries.insert_many(search_queries)\n",
    "\n",
    "print(\"Данные для дополнительных сущностей успешно добавлены в MongoDB!\")"
   ]
  },
  {
   "cell_type": "raw",
   "id": "d3048d34-cdd0-4ff0-9798-9bc01fe5c633",
   "metadata": {},
   "source": [
    "Проверка сгенерированных данных"
   ]
  },
  {
   "cell_type": "code",
   "execution_count": 14,
   "id": "e17237ba-da34-42e6-8bfb-d30c7ed2865c",
   "metadata": {},
   "outputs": [
    {
     "name": "stdout",
     "output_type": "stream",
     "text": [
      "Найденные коллекции:\n",
      "['search_queries', 'event_logs', 'moderation_queue', 'support_tickets', 'user_sessions', 'product_price_history', 'user_recommendations']\n",
      "\n",
      "Коллекция 'search_queries' содержит 20 документов.\n",
      "Пример документа:\n",
      "{'_id': ObjectId('67d56c825ef83314ecc52fca'), 'query_id': '9d8a7e17-d51a-4105-9df6-761ac6a62b51', 'user_id': 614, 'query_text': 'affordable laptops', 'timestamp': '2025-03-15T15:03:13.894432', 'filters': {'category': 'fashion'}, 'results_count': 75}\n",
      "\n",
      "Коллекция 'event_logs' содержит 20 документов.\n",
      "Пример документа:\n",
      "{'_id': ObjectId('67d56c815ef83314ecc52fb6'), 'event_id': '0b40af9b-e3d9-4ecd-94c6-c575ec4b1bcb', 'timestamp': '2025-03-15T15:03:13.893431', 'event_type': 'login', 'details': 'User logged in from IP 253.151.81.197.'}\n",
      "\n",
      "Коллекция 'moderation_queue' содержит 20 документов.\n",
      "Пример документа:\n",
      "{'_id': ObjectId('67d56c825ef83314ecc52fc5'), 'review_id': 'b7a93df6-f2d8-43e4-87aa-cde79e407bbc', 'user_id': 327, 'product_id': 'db37e615-4a44-4fab-a7df-71386f879b07', 'review_text': 'Great product, exceeded my expectations.', 'rating': 4, 'moderation_status': 'rejected', 'flags': ['spam', 'duplicate'], 'submitted_at': '2025-03-15T15:03:13.894432'}\n",
      "\n",
      "Коллекция 'support_tickets' содержит 20 документов.\n",
      "Пример документа:\n",
      "{'_id': ObjectId('67d56c815ef83314ecc52fbb'), 'ticket_id': '707d390c-03f9-46b2-b33a-e0f30ba9944b', 'user_id': 238, 'status': 'open', 'issue_type': 'technical', 'messages': ['The app crashes on startup.', \"I'm experiencing frequent disconnections.\", \"I can't connect to the internet.\"], 'created_at': '2025-03-12T15:03:13.893431', 'updated_at': '2025-03-15T15:03:13.893431'}\n",
      "\n",
      "Коллекция 'user_sessions' содержит 40 документов.\n",
      "Пример документа:\n",
      "{'_id': ObjectId('67d56c815ef83314ecc52fa7'), 'session_id': 'ce48aa4a-2984-461b-9827-9aea337897fe', 'user_id': 908, 'start_time': datetime.datetime(2025, 3, 15, 14, 46, 13, 138000), 'end_time': datetime.datetime(2025, 3, 15, 15, 3, 13, 138000), 'pages_visited': ['/page9', '/page8'], 'device': 'Tablet', 'actions': ['type', 'type', 'type', 'scroll', 'click']}\n",
      "\n",
      "Коллекция 'product_price_history' содержит 20 документов.\n",
      "Пример документа:\n",
      "{'_id': ObjectId('67d56c815ef83314ecc52fb1'), 'product_id': 'e3c8fb85-38d5-402b-8852-f3621dad5e97', 'price_changes': [{'date': '2025-03-01T15:03:13.893431', 'price': 179.28}, {'date': '2025-03-08T15:03:13.893431', 'price': 173.64}], 'current_price': 173.64, 'currency': 'EUR'}\n",
      "\n",
      "Коллекция 'user_recommendations' содержит 20 документов.\n",
      "Пример документа:\n",
      "{'_id': ObjectId('67d56c825ef83314ecc52fc0'), 'user_id': 628, 'recommended_products': ['2cbef593-67bb-4ff7-87fa-563e0aa1fd52', 'f4374989-8c0e-4421-843b-f3c38e9f2755', 'ad884061-b90d-4d43-ae3e-5c422a22ba9b', 'c91a0ef2-10ac-4ce2-b8c8-a01fda9da016'], 'last_updated': '2025-03-15T15:03:13.893431'}\n"
     ]
    }
   ],
   "source": [
    "collections = db.list_collection_names()\n",
    "print(\"Найденные коллекции:\")\n",
    "print(collections)\n",
    "\n",
    "for coll in collections:\n",
    "    count = db[coll].count_documents({})\n",
    "    print(f\"\\nКоллекция '{coll}' содержит {count} документов.\")\n",
    "    \n",
    "    if count > 0:\n",
    "        sample_doc = db[coll].find_one()\n",
    "        print(\"Пример документа:\")\n",
    "        print(sample_doc)"
   ]
  },
  {
   "cell_type": "code",
   "execution_count": null,
   "id": "331fc893-df60-4260-a1be-c21872a86d37",
   "metadata": {},
   "outputs": [],
   "source": []
  }
 ],
 "metadata": {
  "kernelspec": {
   "display_name": "Python 3 (ipykernel)",
   "language": "python",
   "name": "python3"
  },
  "language_info": {
   "codemirror_mode": {
    "name": "ipython",
    "version": 3
   },
   "file_extension": ".py",
   "mimetype": "text/x-python",
   "name": "python",
   "nbconvert_exporter": "python",
   "pygments_lexer": "ipython3",
   "version": "3.12.7"
  }
 },
 "nbformat": 4,
 "nbformat_minor": 5
}
